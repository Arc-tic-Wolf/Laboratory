{
 "metadata": {
  "language_info": {
   "name": "python",
   "version": "3.8.9",
   "mimetype": "text/x-python",
   "codemirror_mode": {
    "name": "ipython",
    "version": 3
   },
   "pygments_lexer": "ipython3",
   "nbconvert_exporter": "python",
   "file_extension": ".py"
  },
  "orig_nbformat": 4,
  "kernelspec": {
   "name": "python3",
   "display_name": "Python 3.8.9 64-bit"
  },
  "interpreter": {
   "hash": "1baa965d5efe3ac65b79dfc60c0d706280b1da80fedb7760faf2759126c4f253"
  }
 },
 "nbformat": 4,
 "nbformat_minor": 2,
 "cells": [
  {
   "cell_type": "code",
   "execution_count": 6,
   "source": [
    "x_min, y_min, x_max, y_max= 0,0, 300, 200"
   ],
   "outputs": [],
   "metadata": {}
  },
  {
   "cell_type": "code",
   "execution_count": 7,
   "source": [
    "def outcode(x,y):\r\n",
    "    a,b,r,l=0,0,0,0\r\n",
    "    if(x>x_max):\r\n",
    "        r=1\r\n",
    "    else:\r\n",
    "        r=0\r\n",
    "    if(x<x_min):\r\n",
    "        l=1\r\n",
    "    else:\r\n",
    "        l=0\r\n",
    "    if(y>y_max):\r\n",
    "        a=1\r\n",
    "    else:\r\n",
    "        a=0\r\n",
    "    if(y<y_min):\r\n",
    "        b=1\r\n",
    "    else:\r\n",
    "        b=0\r\n",
    "    return \"{}{}{}{}\".format(a,b,r,l)\r\n"
   ],
   "outputs": [],
   "metadata": {}
  },
  {
   "cell_type": "markdown",
   "source": [
    "Input Section"
   ],
   "metadata": {}
  },
  {
   "cell_type": "code",
   "execution_count": 8,
   "source": [
    "x1,y1,x2,y2=50, -125, -100, 225\r\n",
    "m=(y2-y1)/(x2-x1)"
   ],
   "outputs": [],
   "metadata": {}
  },
  {
   "cell_type": "code",
   "execution_count": 9,
   "source": [
    "def right(x,y):\r\n",
    "    yn=y+m*(x_max-x)\r\n",
    "    xn=x_max\r\n",
    "    return xn,yn\r\n",
    "def left(x,y):\r\n",
    "    yn=y+m*(x_min-x)\r\n",
    "    xn=x_min\r\n",
    "    return xn,yn\r\n",
    "def top(x,y):\r\n",
    "    yn=y_max\r\n",
    "    xn=x+(1/m)*(y_max-y)\r\n",
    "    return xn,yn\r\n",
    "def bottom(x,y):\r\n",
    "    yn=y_min\r\n",
    "    xn=x+(1/m)*(y_min-y)\r\n",
    "    return xn,yn"
   ],
   "outputs": [],
   "metadata": {}
  },
  {
   "cell_type": "code",
   "execution_count": 10,
   "source": [
    "outcode1=outcode(x1,y1)\r\n",
    "outcode2=outcode(x2,y2)\r\n",
    "while(True):\r\n",
    "    print(outcode1)\r\n",
    "    print(outcode2)\r\n",
    "    print(\"({},{}) ({},{})\".format(x1,y1,x2,y2))\r\n",
    "    if (outcode1=='0000' and outcode2=='0000'):\r\n",
    "        print(\"line is completely in zone\")\r\n",
    "        break \r\n",
    "    elif (int(outcode1,2)& int(outcode2,2)):\r\n",
    "        print(\"line is completely outside\")\r\n",
    "        break\r\n",
    "    else:\r\n",
    "        if(outcode1!=\"0000\"):\r\n",
    "            print(\"outcode 1 is not zero\")\r\n",
    "            if outcode1[0]==\"0\":\r\n",
    "                x1,y1=top(x1,y1)\r\n",
    "                outcode1=outcode(x1,y1)\r\n",
    "            if outcode1[1]==\"0\":\r\n",
    "                x1,y1=bottom(x1,y1)\r\n",
    "                outcode1=outcode(x1,y1)\r\n",
    "            if outcode1[2]==\"0\":\r\n",
    "                x1,y1=right(x1,y1)\r\n",
    "                outcode1=outcode(x1,y1)\r\n",
    "            if outcode1[3]==\"0\":\r\n",
    "                x1,y1=left(x1,y1)\r\n",
    "                outcode1=outcode(x1,y1)\r\n",
    "        else:\r\n",
    "            print(\"outcode 1 is zero\")\r\n",
    "            if outcode2[0]==\"0\":\r\n",
    "                x2,y2=top(x2,y2)\r\n",
    "                outcode2=outcode(x2,y2)\r\n",
    "            if outcode2[1]==\"0\":\r\n",
    "                x2,y2=bottom(x2,y2)\r\n",
    "                outcode2=outcode(x2,y2)\r\n",
    "            if outcode2[2]==\"0\":\r\n",
    "                x2,y2=right(x2,y2)\r\n",
    "                outcode2=outcode(x2,y2)\r\n",
    "            if outcode2[3]==\"0\":\r\n",
    "                x2,y2=left(x2,y2)\r\n",
    "                outcode2=outcode(x2,y2)"
   ],
   "outputs": [
    {
     "output_type": "stream",
     "name": "stdout",
     "text": [
      "0111\n",
      "1001\n",
      "(50,-125) (-100,225)\n",
      "line is completely outside\n"
     ]
    }
   ],
   "metadata": {
    "tags": []
   }
  },
  {
   "cell_type": "code",
   "execution_count": 6,
   "source": [
    "outcode(0,0)"
   ],
   "outputs": [
    {
     "output_type": "execute_result",
     "data": {
      "text/plain": [
       "'0000'"
      ]
     },
     "metadata": {},
     "execution_count": 6
    }
   ],
   "metadata": {}
  },
  {
   "cell_type": "code",
   "execution_count": null,
   "source": [],
   "outputs": [],
   "metadata": {}
  }
 ]
}